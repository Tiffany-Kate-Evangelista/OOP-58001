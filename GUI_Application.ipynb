{
  "nbformat": 4,
  "nbformat_minor": 0,
  "metadata": {
    "colab": {
      "name": "GUI Application.ipynb",
      "provenance": [],
      "authorship_tag": "ABX9TyMySUrmGGp6juyhjJyplbsf",
      "include_colab_link": true
    },
    "kernelspec": {
      "name": "python3",
      "display_name": "Python 3"
    },
    "language_info": {
      "name": "python"
    }
  },
  "cells": [
    {
      "cell_type": "markdown",
      "metadata": {
        "id": "view-in-github",
        "colab_type": "text"
      },
      "source": [
        "<a href=\"https://colab.research.google.com/github/tiffypabo/OOP-58001/blob/main/GUI_Application.ipynb\" target=\"_parent\"><img src=\"https://colab.research.google.com/assets/colab-badge.svg\" alt=\"Open In Colab\"/></a>"
      ]
    },
    {
      "cell_type": "markdown",
      "source": [
        "To create a Python program that displays the grades and information of the student"
      ],
      "metadata": {
        "id": "ROCuxBec_N4u"
      }
    },
    {
      "cell_type": "code",
      "execution_count": 6,
      "metadata": {
        "colab": {
          "base_uri": "https://localhost:8080/"
        },
        "id": "UApRMcsw_HRk",
        "outputId": "7264192e-97b2-411a-c70a-5354da46c8a9"
      },
      "outputs": [
        {
          "output_type": "stream",
          "name": "stdout",
          "text": [
            "Student Name: Tiffany Kate Evangelista\n",
            "Semestral Grade of the student: 92.5\n"
          ]
        }
      ],
      "source": [
        "#@title Students' Grade in OOP\n",
        "\n",
        "Student_Name = \"Tiffany Kate Evangelista\" #@param {type: \"string\"}\n",
        "prelim = 91 #@param {type:\"number\"}\n",
        "midterm  = 92 #@param {type:\"number\"}\n",
        "final  = 94 #@param {type:\"number\"}\n",
        "sem = prelim*0.30+midterm*0.30+final*0.40\n",
        "\n",
        "print(\"Student Name: \" + Student_Name)\n",
        "print(\"Semestral Grade of the student: \" + str(sem))\n"
      ]
    },
    {
      "cell_type": "code",
      "source": [
        "#@title Information\n",
        "\n",
        "Gender = \"Female\" #@param [\"Male\", \"Female\", \"Prefer not to respond\"]\n",
        "Birthdate = '2002-11-10' #@param {type: \"date\"}\n",
        "\n",
        "print(\"My birthdate is \" + Birthdate)\n",
        "print(\"My gender is \" + Gender)"
      ],
      "metadata": {
        "colab": {
          "base_uri": "https://localhost:8080/"
        },
        "id": "UMZdZ22qGGV2",
        "outputId": "765ed57d-cf94-4c2b-a98a-c9f1286861dd"
      },
      "execution_count": 7,
      "outputs": [
        {
          "output_type": "stream",
          "name": "stdout",
          "text": [
            "My birthdate is 2002-11-10\n",
            "My gender is Female\n"
          ]
        }
      ]
    }
  ]
}