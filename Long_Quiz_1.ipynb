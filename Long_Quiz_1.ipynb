{
  "nbformat": 4,
  "nbformat_minor": 0,
  "metadata": {
    "colab": {
      "name": "Long Quiz 1.ipynb",
      "provenance": [],
      "collapsed_sections": [],
      "authorship_tag": "ABX9TyO6RPZKyCBJSPxKFOBjLwr5",
      "include_colab_link": true
    },
    "kernelspec": {
      "name": "python3",
      "display_name": "Python 3"
    },
    "language_info": {
      "name": "python"
    }
  },
  "cells": [
    {
      "cell_type": "markdown",
      "metadata": {
        "id": "view-in-github",
        "colab_type": "text"
      },
      "source": [
        "<a href=\"https://colab.research.google.com/github/tiffypabo/OOP-58001/blob/main/Long_Quiz_1.ipynb\" target=\"_parent\"><img src=\"https://colab.research.google.com/assets/colab-badge.svg\" alt=\"Open In Colab\"/></a>"
      ]
    },
    {
      "cell_type": "markdown",
      "source": [
        "**Write a Python program that asks the user to enter the radius of a circle and solve its area and perimeter.**"
      ],
      "metadata": {
        "id": "NO0X5DhcOrTy"
      }
    },
    {
      "cell_type": "code",
      "source": [
        "#Create a class name Circle allowing you to build a circle with radius and pi attributes.\n",
        "\n",
        "class Circle():                   \n",
        "  def __init__(self,radius,pi):\n",
        "    self.radius = int(input())    \n",
        "    self.pi = pi                  \n",
        "\n",
        "#Create a Perimeter() method to calculate the perimeter of the circle and an Area() method to calculate the area of ​​the circle.\n",
        "\n",
        "  def Perimeter(self):\n",
        "    return 2*self.pi*self.radius        #formula for finding perimeter of circle\n",
        "\n",
        "  def Area(self):\n",
        "    return 2*(self.radius*self.radius)  #formula for finding the area of a circle\n",
        "\n",
        "#Create a method Display() the perimeter and area using an instantiation of a class.\n",
        "  def display(self):\n",
        "    print(\"Perimeter:\", self.Perimeter()) \n",
        "    print(\"Area:\", self.Area())           \n",
        "\n",
        "circle = Circle(input,3.14)     \n",
        "circle.display()                "
      ],
      "metadata": {
        "colab": {
          "base_uri": "https://localhost:8080/"
        },
        "id": "GZZOs1aqOrjB",
        "outputId": "f13b6f36-8b55-4758-c1ae-828fc40578d9"
      },
      "execution_count": 2,
      "outputs": [
        {
          "output_type": "stream",
          "name": "stdout",
          "text": [
            "9\n",
            "Perimeter: 56.52\n",
            "Area: 162\n"
          ]
        }
      ]
    }
  ]
}