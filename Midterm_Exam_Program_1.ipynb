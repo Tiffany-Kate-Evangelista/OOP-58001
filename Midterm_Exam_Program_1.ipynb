{
  "nbformat": 4,
  "nbformat_minor": 0,
  "metadata": {
    "colab": {
      "name": "Midterm Exam_Program 1.ipynb",
      "provenance": [],
      "authorship_tag": "ABX9TyOSCnPTD4Nv9hq4/GtOkyCH",
      "include_colab_link": true
    },
    "kernelspec": {
      "name": "python3",
      "display_name": "Python 3"
    },
    "language_info": {
      "name": "python"
    }
  },
  "cells": [
    {
      "cell_type": "markdown",
      "metadata": {
        "id": "view-in-github",
        "colab_type": "text"
      },
      "source": [
        "<a href=\"https://colab.research.google.com/github/tiffypabo/OOP-58001/blob/main/Midterm_Exam_Program_1.ipynb\" target=\"_parent\"><img src=\"https://colab.research.google.com/assets/colab-badge.svg\" alt=\"Open In Colab\"/></a>"
      ]
    },
    {
      "cell_type": "code",
      "source": [
        "def main():\n",
        "    class TemperatureConversion:\n",
        "\n",
        "        def __init__(self, temp=1):\n",
        "            self._temp = temp\n",
        "\n",
        "    class CelsiusToFahrenheit(TemperatureConversion):\n",
        "\n",
        "        def conversion(self):\n",
        "            return (self._temp * 9) / 5 + 32\n",
        "\n",
        "    class CelsiusToKelvin(TemperatureConversion):\n",
        "\n",
        "        def conversion(self):\n",
        "            return self._temp + 273.15\n",
        "\n",
        "    class FahrenheitToCelsius(TemperatureConversion):\n",
        "        def coversion(self):\n",
        "            return (self._temp * - 32) * (5/9)\n",
        "\n",
        "    class FahrenheitToKelvin(TemperatureConversion):\n",
        "        def conversion(self):\n",
        "            return (self._temp * - 32) * (5/9) + 273.15\n",
        "\n",
        "    class KelvinToCelsius(TemperatureConversion):\n",
        "        def conversion(self):\n",
        "            return (self._temp - 273.15)\n",
        "\n",
        "    class KelvinToFahrenheit(TemperatureConversion):\n",
        "        def conversion(self):\n",
        "            return ((self._temp - 273.15) * (9/5)) + 32\n",
        "\n",
        "    print(\"Please enter which coversion method\\n1. Fahrenheit to Celsius and Kelvin\")\n",
        "    print(\"2. Celsius to Fahrenheit and Kelvin\\n3.Kelvin to Fahrenheit and Celsius\")\n",
        "    QuestionMethod = int(input(\"Enter: \"))\n",
        "\n",
        "    if QuestionMethod == 1:\n",
        "        tempInFahrenheit = float(input(\"Enter the temperature in Fahrenheit: \"))\n",
        "\n",
        "        convert = FahrenheitToCelsius(tempInFahrenheit)\n",
        "\n",
        "        print(str(convert.coversion()) + \" Celsius\")\n",
        "\n",
        "        convert = FahrenheitToKelvin(tempInFahrenheit)\n",
        "\n",
        "        print(str(convert.conversion()) + \" Kelvin\")\n",
        "\n",
        "    elif QuestionMethod == 2:\n",
        "        tempInCelsius = float(input(\"Enter the temperature in Celsius: \"))\n",
        "\n",
        "        convert = CelsiusToKelvin(tempInCelsius)\n",
        "\n",
        "        print(str(convert.conversion()) + \" Kelvin\")\n",
        "\n",
        "        convert = CelsiusToFahrenheit(tempInCelsius)\n",
        "\n",
        "        print(str(convert.conversion()) + \" Fahrenheit\")\n",
        "\n",
        "    elif QuestionMethod == 3:\n",
        "        tempInKelvin = float(input(\"Enter the temperature in Kelvin: \"))\n",
        "\n",
        "        convert = KelvinToCelsius(tempInKelvin)\n",
        "\n",
        "        print(str(convert.conversion()) + \" Celsius\")\n",
        "\n",
        "        convert = KelvinToFahrenheit(tempInKelvin)\n",
        "\n",
        "        print(str(convert.conversion()) + \" Fahrenheit\")\n",
        "\n",
        "\n",
        "main()"
      ],
      "metadata": {
        "colab": {
          "base_uri": "https://localhost:8080/"
        },
        "id": "Jvlb-LiCjmvk",
        "outputId": "bc87f61a-a54b-454b-e124-7e3e8d26daa0"
      },
      "execution_count": 4,
      "outputs": [
        {
          "output_type": "stream",
          "name": "stdout",
          "text": [
            "Please enter which coversion method\n",
            "1. Fahrenheit to Celsius and Kelvin\n",
            "2. Celsius to Fahrenheit and Kelvin\n",
            "3.Kelvin to Fahrenheit and Celsius\n",
            "Enter: 1\n",
            "Enter the temperature in Fahrenheit: 23\n",
            "-408.8888888888889 Celsius\n",
            "-135.73888888888894 Kelvin\n"
          ]
        }
      ]
    }
  ]
}