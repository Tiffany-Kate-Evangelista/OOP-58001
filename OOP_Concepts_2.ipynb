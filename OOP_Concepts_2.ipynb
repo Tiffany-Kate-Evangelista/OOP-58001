{
  "cells": [
    {
      "cell_type": "markdown",
      "metadata": {
        "id": "view-in-github",
        "colab_type": "text"
      },
      "source": [
        "<a href=\"https://colab.research.google.com/github/tiffypabo/OOP-58001/blob/main/OOP_Concepts_2.ipynb\" target=\"_parent\"><img src=\"https://colab.research.google.com/assets/colab-badge.svg\" alt=\"Open In Colab\"/></a>"
      ]
    },
    {
      "cell_type": "markdown",
      "metadata": {
        "id": "1vGGP9w3vf4q"
      },
      "source": [
        "Classes with multiple objects"
      ]
    },
    {
      "cell_type": "code",
      "execution_count": null,
      "metadata": {
        "colab": {
          "base_uri": "https://localhost:8080/"
        },
        "id": "UzDIFSxSvief",
        "outputId": "fd396694-5b9e-44c5-9428-38fa8cbde8bc"
      },
      "outputs": [
        {
          "name": "stdout",
          "output_type": "stream",
          "text": [
            "Griffon Vulture flies above clouds\n",
            "Commom Crane flies above clouds\n",
            "Emu is the national bird of the Philippines\n"
          ]
        }
      ],
      "source": [
        "class Birds:\n",
        " def __init__(self, bird_name):\n",
        "   self.bird_name = bird_name\n",
        "\n",
        " def flying_birds(self):\n",
        "   print(f\"{self.bird_name} flies above clouds\")\n",
        "\n",
        " def non_flying_birds(self):\n",
        "    print(f\"{self.bird_name} is the national bird of the Philippines\")\n",
        "\n",
        "\n",
        "vulture=Birds(\"Griffon Vulture\")\n",
        "crane=Birds(\"Commom Crane\")\n",
        "emu=Birds(\"Emu\")\n",
        "\n",
        "vulture.flying_birds()\n",
        "crane.flying_birds()\n",
        "emu.non_flying_birds()"
      ]
    },
    {
      "cell_type": "markdown",
      "metadata": {
        "id": "ELMXq5OWzKNb"
      },
      "source": [
        "Encapsulation with private attributes\n",
        "\n",
        "note:\n",
        "when self.a becomes self._a, as well as self.b becomes self._b, the output would be 7."
      ]
    },
    {
      "cell_type": "code",
      "execution_count": null,
      "metadata": {
        "colab": {
          "base_uri": "https://localhost:8080/"
        },
        "id": "MZNwQ_FIzL7J",
        "outputId": "94f95c5f-8067-4dd4-d6b9-b23b85772095"
      },
      "outputs": [
        {
          "data": {
            "text/plain": [
              "10"
            ]
          },
          "execution_count": 23,
          "metadata": {},
          "output_type": "execute_result"
        }
      ],
      "source": [
        "class foo:\n",
        " def __init__(self, a, b):\n",
        "   self.a = a\n",
        "   self.b = b\n",
        " def add(self):\n",
        "   return self.a+self.b\n",
        "\n",
        "foo_object = foo(3,4)\n",
        "#foo_object.add()\n",
        "\n",
        "foo_object.a = 6\n",
        "foo_object.add()"
      ]
    },
    {
      "cell_type": "markdown",
      "metadata": {
        "id": "Hfes06MJ2nvC"
      },
      "source": [
        "Encapsulation by mangling with double underscores\n",
        "\n",
        "note: (on counter.increment)\n",
        "no number sign = 3\n",
        "with number sign = 1"
      ]
    },
    {
      "cell_type": "code",
      "execution_count": null,
      "metadata": {
        "colab": {
          "base_uri": "https://localhost:8080/"
        },
        "id": "lstoP-2w2qbI",
        "outputId": "f30d54e0-a085-487e-e4d7-8604630a8e44"
      },
      "outputs": [
        {
          "name": "stdout",
          "output_type": "stream",
          "text": [
            "2\n"
          ]
        }
      ],
      "source": [
        "class Counter:\n",
        "    def __init__(self):\n",
        "        self.current = 0\n",
        "\n",
        "    def increment(self):\n",
        "        self.current += 1     #current = current+1\n",
        "\n",
        "    def value(self):\n",
        "        return self.current\n",
        "\n",
        "    def reset(self):\n",
        "        self.current = 0\n",
        "        \n",
        "counter = Counter()\n",
        "\n",
        "counter.increment()\n",
        "#counter.increment()\n",
        "#counter.increment()\n",
        "\n",
        "print(counter.value())\n",
        "#print(counter.__current)\n",
        "#print(counter.reset())\n"
      ]
    },
    {
      "cell_type": "markdown",
      "metadata": {
        "id": "1vYbeK7z7P0z"
      },
      "source": [
        "Inheritance"
      ]
    },
    {
      "cell_type": "code",
      "execution_count": null,
      "metadata": {
        "colab": {
          "base_uri": "https://localhost:8080/"
        },
        "id": "mseG5YLl7RG1",
        "outputId": "c929fd6a-547e-472a-cc31-7605afd17d38"
      },
      "outputs": [
        {
          "name": "stdout",
          "output_type": "stream",
          "text": [
            "Tiffany Kate Evangelista\n",
            "Anya Taylor-Joy\n"
          ]
        }
      ],
      "source": [
        "class Person:\n",
        "  def __init__(self, fname, sname):\n",
        "    self.fname = fname\n",
        "    self.sname = sname\n",
        "\n",
        "  def printname(self):\n",
        "    print(self.fname, self.sname)\n",
        "\n",
        "t = Person(\"Tiffany Kate\", \"Evangelista\")\n",
        "t.printname()\n",
        "\n",
        "class Actress(Person):\n",
        " pass\n",
        "a = Actress(\"Anya\", \"Taylor-Joy\")\n",
        "a.printname()"
      ]
    },
    {
      "cell_type": "markdown",
      "metadata": {
        "id": "WNyAQxvR-GQX"
      },
      "source": [
        "Polymorphism"
      ]
    },
    {
      "cell_type": "code",
      "execution_count": null,
      "metadata": {
        "colab": {
          "base_uri": "https://localhost:8080/"
        },
        "id": "47HMkcKY-1ae",
        "outputId": "70b3381e-e7bb-4849-b3f0-92d49bc843e6"
      },
      "outputs": [
        {
          "name": "stdout",
          "output_type": "stream",
          "text": [
            "16\n",
            "3.897\n"
          ]
        }
      ],
      "source": [
        "class RegularPolygon:\n",
        "  def __init__(self, side):\n",
        "    self._side = side\n",
        "\n",
        "class Square(RegularPolygon):\n",
        "  def area(self):\n",
        "    return self._side * self._side\n",
        "\n",
        "class EquilateralTriangle(RegularPolygon):\n",
        "  def area(self):\n",
        "    return self._side*self._side*0.433\n",
        "\n",
        "obj1 = Square(4)\n",
        "obj2 = EquilateralTriangle(3)\n",
        "\n",
        "print(obj1.area())\n",
        "print(obj2.area())\n"
      ]
    },
    {
      "cell_type": "markdown",
      "source": [
        "The 2 additional codes below are from Discussion on March 3, 2022"
      ],
      "metadata": {
        "id": "RlyZ7xo9M-24"
      }
    },
    {
      "cell_type": "code",
      "source": [
        "class RegularPolygon:\n",
        "  def __init__(self, side):\n",
        "    self._side = side\n",
        "\n",
        "class Square(RegularPolygon):\n",
        "  def area(self):\n",
        "    return self._side * self._side\n",
        "\n",
        "class EquilateralTriangle(RegularPolygon):\n",
        "  def area(self):\n",
        "    return self._side*self._side*0.433\n",
        "\n",
        "sq = Square(4)\n",
        "et = EquilateralTriangle(1)\n",
        "\n",
        "print(et.area()*sq.area())"
      ],
      "metadata": {
        "colab": {
          "base_uri": "https://localhost:8080/"
        },
        "id": "lHIlyPzbM0ng",
        "outputId": "15e52f2e-557d-4d4d-f148-e435a9c7d610"
      },
      "execution_count": null,
      "outputs": [
        {
          "output_type": "stream",
          "name": "stdout",
          "text": [
            "6.928\n"
          ]
        }
      ]
    },
    {
      "cell_type": "code",
      "source": [
        "class Shape:\n",
        "  def __init__(self, l, h):\n",
        "    self._length=1\n",
        "    self._height=h\n",
        "\n",
        "class Rectangle(Shape):\n",
        "  def area(self):\n",
        "    return self._length*self._height\n",
        "\n",
        "class Triangle(Shape):\n",
        "  def area(self):\n",
        "    return (self._length*self._height)/2\n",
        "\n",
        "\n",
        "calculateArea = Rectangle (5, 10)\n",
        "print(\"Area of Rectangle is: \" + str(calculateArea.area()))\n",
        "\n",
        "calculateArea = Triangle (5, 10)\n",
        "print(\"Area of Triangle is: \" + str(round(calculateArea.area())))"
      ],
      "metadata": {
        "colab": {
          "base_uri": "https://localhost:8080/"
        },
        "id": "NaN_Q8C8M-CX",
        "outputId": "afc4dfb2-183a-417e-ad03-fd6cd1c29e2f"
      },
      "execution_count": 3,
      "outputs": [
        {
          "output_type": "stream",
          "name": "stdout",
          "text": [
            "Area of Rectangle is: 10\n",
            "Area of Triangle is: 5\n"
          ]
        }
      ]
    },
    {
      "cell_type": "markdown",
      "metadata": {
        "id": "U3u9_0OuE6p5"
      },
      "source": [
        "Application 1\n",
        "\n",
        "30% prelim, 30% midterm, 40% final = semestral grade"
      ]
    },
    {
      "cell_type": "markdown",
      "metadata": {
        "id": "MmhAcBrMFdb2"
      },
      "source": [
        "1. Create a Python program that displays the name of three students (Student 1, Student 2 , Student 3) and their term grades\n",
        "2. Create a class name Person and attributes - std1, std2, std3, pre, mid, fin\n",
        "3. Compute the average of each term grade using Grade() method\n",
        "4. Information about student's grades must be hidden from others"
      ]
    },
    {
      "cell_type": "code",
      "execution_count": null,
      "metadata": {
        "id": "QBi10OSiGDKP",
        "colab": {
          "base_uri": "https://localhost:8080/"
        },
        "outputId": "e6fd1aa9-1983-426f-98eb-9ee094513e69"
      },
      "outputs": [
        {
          "output_type": "stream",
          "name": "stdout",
          "text": [
            "Which student's grades you wish to view:\n",
            "Type 1, 2, or 3\n",
            "2\n",
            "Student 2: Ms. Ariana Grande has a Semestral Grade of 85.3\n"
          ]
        }
      ],
      "source": [
        "import random\n",
        "class Person:\n",
        "  def __init__(self, name, pre, mid, fin):\n",
        "    self._name = name\n",
        "    self._pre = pre*.30\n",
        "    self._mid = mid*.30\n",
        "    self._fin = fin*.40\n",
        "    \n",
        "  def Grades(self):\n",
        "     return print(self._name, \"has a Semestral Grade of\", self._pre + self._mid + self._fin)\n",
        "\n",
        "\n",
        "std1 = Person(\"Student 1: Ms. Mariah Carey\", random.randint(75,99), random.randint(75,99), random.randint(75,99)) \n",
        "\n",
        "std2 = Person(\"Student 2: Ms. Ariana Grande\", random.randint(75,99), random.randint(75,99), random.randint(75,99))\n",
        "\n",
        "std3 = Person(\"Student 3: Ms. Christina Aguilera\", random.randint(75,99), random.randint(75,99), random.randint(75,99))\n",
        "\n",
        "x = input(str(\"Which student's grades you wish to view:\\nType 1, 2, or 3\\n\"))\n",
        "\n",
        "\n",
        "if x == \"1\":\n",
        "  std1.Grades()\n",
        "else:\n",
        "  if x == \"2\":\n",
        "    std2.Grades()\n",
        "  else:\n",
        "    if x == \"3\":\n",
        "      std3.Grades()\n",
        "    else:\n",
        "      print(\"Invalid Student\")"
      ]
    }
  ],
  "metadata": {
    "colab": {
      "collapsed_sections": [],
      "name": "OOP Concepts_2.ipynb",
      "provenance": [],
      "authorship_tag": "ABX9TyOPP3t2u76eHyles7Cq7bop",
      "include_colab_link": true
    },
    "kernelspec": {
      "display_name": "Python 3",
      "name": "python3"
    },
    "language_info": {
      "name": "python"
    }
  },
  "nbformat": 4,
  "nbformat_minor": 0
}