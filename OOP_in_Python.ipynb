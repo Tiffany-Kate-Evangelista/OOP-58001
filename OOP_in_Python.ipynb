{
  "nbformat": 4,
  "nbformat_minor": 0,
  "metadata": {
    "colab": {
      "name": "OOP in Python.ipynb",
      "provenance": [],
      "collapsed_sections": [],
      "authorship_tag": "ABX9TyOniqFPfn3mp1qsx1YRHdJW",
      "include_colab_link": true
    },
    "kernelspec": {
      "name": "python3",
      "display_name": "Python 3"
    },
    "language_info": {
      "name": "python"
    }
  },
  "cells": [
    {
      "cell_type": "markdown",
      "metadata": {
        "id": "view-in-github",
        "colab_type": "text"
      },
      "source": [
        "<a href=\"https://colab.research.google.com/github/tiffypabo/OOP-58001/blob/main/OOP_in_Python.ipynb\" target=\"_parent\"><img src=\"https://colab.research.google.com/assets/colab-badge.svg\" alt=\"Open In Colab\"/></a>"
      ]
    },
    {
      "cell_type": "markdown",
      "source": [
        "Create a class"
      ],
      "metadata": {
        "id": "5VQkTUQMm-Qo"
      }
    },
    {
      "cell_type": "code",
      "source": [
        "class MyClass:\n",
        " pass          #to create a class without method"
      ],
      "metadata": {
        "id": "vKVXoaoXqej_"
      },
      "execution_count": null,
      "outputs": []
    },
    {
      "cell_type": "code",
      "source": [
        "class MyClass: #the name of the class\n",
        "  x = 40       #property of the class named MyClass\n",
        "\n",
        "def MyClass():\n",
        " p1 = MyClass()\n",
        " print(p1.x)"
      ],
      "metadata": {
        "id": "6gViuSF5rFDX"
      },
      "execution_count": null,
      "outputs": []
    },
    {
      "cell_type": "code",
      "source": [
        "class Car():          #create a class named Car\n",
        "  def __init__(self,name,color):\n",
        "    self.name = name             #reprents the instance of this class name Car():\n",
        "    self.color = color \n",
        "\n",
        "  def description(self):\n",
        "   return self.name, self.color\n",
        "\n",
        "  def attribute(self):\n",
        "   return self.name, self.color\n",
        "\n",
        "  def display(self):\n",
        "    print(\"The name and color of the car\",self.description())\n",
        "\n",
        "obj1 = Car(\"Toyota\",\"black\")     #to create an object with its attribute values\n",
        "obj1.display()"
      ],
      "metadata": {
        "colab": {
          "base_uri": "https://localhost:8080/"
        },
        "id": "_Aqm81L3sQvV",
        "outputId": "9a31016e-71f3-4f47-aeb4-e085ca4c264e"
      },
      "execution_count": null,
      "outputs": [
        {
          "output_type": "stream",
          "name": "stdout",
          "text": [
            "The name and color of the car ('Toyota', 'black')\n"
          ]
        }
      ]
    },
    {
      "cell_type": "markdown",
      "source": [
        "Modify an Object Property"
      ],
      "metadata": {
        "id": "Gp_szyt1wcQ-"
      }
    },
    {
      "cell_type": "code",
      "source": [
        "obj1.name = \"Mitsubishi\"\n",
        "print(obj1.name)"
      ],
      "metadata": {
        "colab": {
          "base_uri": "https://localhost:8080/"
        },
        "id": "3EMezfWSwgrk",
        "outputId": "9f2439e7-6a09-494a-c3fc-2fef4b24c40e"
      },
      "execution_count": null,
      "outputs": [
        {
          "output_type": "stream",
          "name": "stdout",
          "text": [
            "Mitsubishi\n"
          ]
        }
      ]
    },
    {
      "cell_type": "code",
      "source": [
        "obj1.display()"
      ],
      "metadata": {
        "colab": {
          "base_uri": "https://localhost:8080/"
        },
        "id": "Eszoj1gYxGs8",
        "outputId": "17d2e290-4ae7-44d9-e6e4-5ab2befd28be"
      },
      "execution_count": null,
      "outputs": [
        {
          "output_type": "stream",
          "name": "stdout",
          "text": [
            "The name and color of the car ('Mitsubishi', 'black')\n"
          ]
        }
      ]
    },
    {
      "cell_type": "markdown",
      "source": [
        "Delete the Object Property"
      ],
      "metadata": {
        "id": "V1SsrjUFxTP1"
      }
    },
    {
      "cell_type": "code",
      "source": [
        "del obj1.color \n",
        "print(obj1.color)"
      ],
      "metadata": {
        "colab": {
          "base_uri": "https://localhost:8080/",
          "height": 182
        },
        "id": "zX8-gbW6xWLE",
        "outputId": "f72bbc5b-af42-454a-bca3-3c6be92ceed0"
      },
      "execution_count": null,
      "outputs": [
        {
          "output_type": "error",
          "ename": "AttributeError",
          "evalue": "ignored",
          "traceback": [
            "\u001b[0;31m---------------------------------------------------------------------------\u001b[0m",
            "\u001b[0;31mAttributeError\u001b[0m                            Traceback (most recent call last)",
            "\u001b[0;32m<ipython-input-35-2d229d707ea7>\u001b[0m in \u001b[0;36m<module>\u001b[0;34m()\u001b[0m\n\u001b[0;32m----> 1\u001b[0;31m \u001b[0;32mdel\u001b[0m \u001b[0mobj1\u001b[0m\u001b[0;34m.\u001b[0m\u001b[0mcolor\u001b[0m\u001b[0;34m\u001b[0m\u001b[0;34m\u001b[0m\u001b[0m\n\u001b[0m\u001b[1;32m      2\u001b[0m \u001b[0mprint\u001b[0m\u001b[0;34m(\u001b[0m\u001b[0mibj1\u001b[0m\u001b[0;34m.\u001b[0m\u001b[0mcolor\u001b[0m\u001b[0;34m)\u001b[0m\u001b[0;34m\u001b[0m\u001b[0;34m\u001b[0m\u001b[0m\n",
            "\u001b[0;31mAttributeError\u001b[0m: color"
          ]
        }
      ]
    },
    {
      "cell_type": "code",
      "source": [
        "obj2 = Car(\"BMW\",\"red\")\n",
        "obj2.display()"
      ],
      "metadata": {
        "colab": {
          "base_uri": "https://localhost:8080/"
        },
        "id": "2Bvy1npx0HzY",
        "outputId": "67f2bec1-a660-4cf7-e9e0-c8e4be09b191"
      },
      "execution_count": null,
      "outputs": [
        {
          "output_type": "stream",
          "name": "stdout",
          "text": [
            "The name and color of the car ('BMW', 'red')\n"
          ]
        }
      ]
    },
    {
      "cell_type": "markdown",
      "source": [
        "Application 1 - Write a python program to compute the area and perimeter of a rectangle. Use Rectangle as class name, and length and width as attributes"
      ],
      "metadata": {
        "id": "y67s8g2m1lbB"
      }
    },
    {
      "cell_type": "code",
      "source": [
        "class Rectangle():\n",
        "  def __init__(self,length,width):\n",
        "    self.length = length\n",
        "    self.width = width\n",
        "\n",
        "  def Area(self):\n",
        "    return self.length*self.width\n",
        "\n",
        "  def Perimeter(self):\n",
        "    return 2*(self.length+self.width)\n",
        " \n",
        "  def display(self):\n",
        "    print(\"The area of the rectangle is\", self.Area())\n",
        "    print(\"The perimeter of the rectangle is\", self.Perimeter())\n",
        "\n",
        "pol = Rectangle(7, 4.5)\n",
        "pol.display()"
      ],
      "metadata": {
        "colab": {
          "base_uri": "https://localhost:8080/"
        },
        "id": "jF4XacEl2AgF",
        "outputId": "a9b7aec0-cf86-4183-f0a2-e2189f833d16"
      },
      "execution_count": null,
      "outputs": [
        {
          "output_type": "stream",
          "name": "stdout",
          "text": [
            "The area of the rectangle is 31.5\n",
            "The perimeter of the rectangle is 23.0\n"
          ]
        }
      ]
    },
    {
      "cell_type": "markdown",
      "source": [
        "Application 2 - Write a python program to display a class name OOP_58001 with your student no. and full name (Surname, Firstname) as attributes"
      ],
      "metadata": {
        "id": "qd8jMAzB4qVY"
      }
    },
    {
      "cell_type": "code",
      "source": [
        "class OOP_58001:\n",
        "  pass            #to create a class without method"
      ],
      "metadata": {
        "id": "fkBETpu55QjO"
      },
      "execution_count": null,
      "outputs": []
    },
    {
      "cell_type": "code",
      "source": [
        "class OOP_58001():        #create a class named OOP_58001\n",
        "  def __init__(self,section,name,number):   \n",
        "    self.name = name                       #represents the student's name\n",
        "    self.number = number                   #represents the student's number\n",
        "\n",
        "  def description(self):\n",
        "   return self.name, self.number\n",
        "\n",
        "  def attribute(self):\n",
        "   return self.name, self.number\n",
        "\n",
        "  def display(self):\n",
        "    print(\"I'm from class OOP_58001\")\n",
        "    print(\"My name is\", self.name)\n",
        "    print(\"My student number is\", self.number) \n",
        "\n",
        "#to create an object with its attribute values\n",
        "\n",
        "stud1 = OOP_58001(\"OOP_58001\",\"Evangelista, Tiffany Kate S.\",\"202118674\")    \n",
        "stud1.display()"
      ],
      "metadata": {
        "colab": {
          "base_uri": "https://localhost:8080/"
        },
        "id": "Aey0Ms7muJyc",
        "outputId": "7878f581-0b79-4ae2-8211-b6b0d78ad768"
      },
      "execution_count": 4,
      "outputs": [
        {
          "output_type": "stream",
          "name": "stdout",
          "text": [
            "I'm from class OOP_58001\n",
            "My name is Evangelista, Tiffany Kate S.\n",
            "My student number is 202118674\n"
          ]
        }
      ]
    },
    {
      "cell_type": "code",
      "source": [
        "class OOP_58001():                    #create a class named OOP_58001\n",
        "  def __init__(self,number,name):\n",
        "    self.number = number              #represents the student number\n",
        "    self.name = name                  #represents the student's full name\n",
        "\n",
        "  def StudentNumber(self):\n",
        "    return self.number\n",
        "\n",
        "  def FullName(self):\n",
        "    return self.name\n",
        "  \n",
        "  def display(self):\n",
        "    print(\"I am from class OOP_58001\")\n",
        "    print(\"My student number is\", self.StudentNumber())\n",
        "    print(\"My full name is\", self.FullName())\n",
        "\n",
        "#to display an info with its attributes\n",
        "info = OOP_58001(\"202118674\", \"Evangelista, Tiffany Kate S.\")     \n",
        "info.display()"
      ],
      "metadata": {
        "colab": {
          "base_uri": "https://localhost:8080/"
        },
        "id": "-sSoHuDPjZ6O",
        "outputId": "1f6c52cc-6d0c-4247-ca5c-b9240d006379"
      },
      "execution_count": 1,
      "outputs": [
        {
          "output_type": "stream",
          "name": "stdout",
          "text": [
            "I am from class OOP_58001\n",
            "My student number is 202118674\n",
            "My full name is Evangelista, Tiffany Kate S.\n"
          ]
        }
      ]
    }
  ]
}