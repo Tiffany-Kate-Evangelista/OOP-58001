{
  "nbformat": 4,
  "nbformat_minor": 0,
  "metadata": {
    "colab": {
      "name": "Prelim Exam: Problem 2.ipynb",
      "provenance": [],
      "authorship_tag": "ABX9TyPpRe6ooOPNCJhld3on9l4x",
      "include_colab_link": true
    },
    "kernelspec": {
      "name": "python3",
      "display_name": "Python 3"
    },
    "language_info": {
      "name": "python"
    }
  },
  "cells": [
    {
      "cell_type": "markdown",
      "metadata": {
        "id": "view-in-github",
        "colab_type": "text"
      },
      "source": [
        "<a href=\"https://colab.research.google.com/github/tiffypabo/OOP-58001/blob/main/Prelim_Exam_Problem_2.ipynb\" target=\"_parent\"><img src=\"https://colab.research.google.com/assets/colab-badge.svg\" alt=\"Open In Colab\"/></a>"
      ]
    },
    {
      "cell_type": "markdown",
      "source": [
        "# Problem 2. (50 points)\n",
        "\n",
        "1. Write a Python to display your full name, student number, age, and course\n",
        "2. Create a class named Student with attributes: Name, Student_No, Age, School, and Course\n",
        "3. Create an object name Myself and assign an instance for each attribute.\n",
        "4. Create a method Self () using an instantiation of a class.\n",
        "5. Insert your GitHub link \"Prelim Exam\" from your repository named \"OOP 58001\""
      ],
      "metadata": {
        "id": "aY-1Sik-Knk-"
      }
    },
    {
      "cell_type": "markdown",
      "source": [
        "1. Write a Python to display your full name, student number, age, and course"
      ],
      "metadata": {
        "id": "2sSvb4L7MQqQ"
      }
    },
    {
      "cell_type": "code",
      "source": [
        "class Student:                                                #Create a class named Student\n",
        "  \n",
        "  def __init__ (self, Name, Student_No, Age, School, Course):\n",
        "    self.Name = Name                                          #represents the full name\n",
        "    self.Student_No = Student_No                              #represents the student number\n",
        "    self.Age = Age                                            #represents the age\n",
        "    self.School = School                                      #represents the school\n",
        "    self.Course = Course                                      #represents the course\n",
        "\n",
        "  def display(self):\n",
        "    print(\"My name is: \", self.Name)\n",
        "    print(\"My student number: \", self.Student_No)\n",
        "    print(\"I am: \", self.Age)\n",
        "    print(\"School: \", self.School)\n",
        "    print(\"Course: \", self.Course)\n",
        "\n",
        "#to display myself with its attributes\n",
        "\n",
        "Myself = Student(\"Tiffany Kate S. Evangelista\", \"202118674\", \"19 years old\", \"Adamson University\", \"BS Computer Engineering\")\n",
        "Myself.display()"
      ],
      "metadata": {
        "colab": {
          "base_uri": "https://localhost:8080/"
        },
        "id": "pWT-7zLZMUKq",
        "outputId": "f5286fac-335e-4fa5-e66c-b3d7601330ae"
      },
      "execution_count": 10,
      "outputs": [
        {
          "output_type": "stream",
          "name": "stdout",
          "text": [
            "My name is:  Tiffany Kate S. Evangelista\n",
            "My student number:  202118674\n",
            "I am:  19 years old\n",
            "School:  Adamson University\n",
            "Course:  BS Computer Engineering\n"
          ]
        }
      ]
    }
  ]
}